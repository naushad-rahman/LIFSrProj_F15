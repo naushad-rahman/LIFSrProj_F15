{
 "cells": [
  {
   "cell_type": "code",
   "execution_count": 16,
   "metadata": {
    "collapsed": false
   },
   "outputs": [],
   "source": [
    "import sys\n",
    "import glob\n",
    "import serial\n",
    "\n",
    "from IPython.html.widgets import interact, interactive, fixed\n",
    "from IPython.html import widgets\n",
    "from IPython.display import clear_output, display, HTML\n"
   ]
  },
  {
   "cell_type": "code",
   "execution_count": 17,
   "metadata": {
    "collapsed": true
   },
   "outputs": [],
   "source": [
    "def serial_ports():\n",
    "    \"\"\"Lists serial ports\n",
    "\n",
    "    :raises EnvironmentError:\n",
    "        On unsupported or unknown platforms\n",
    "    :returns:\n",
    "        A list of available serial ports\n",
    "    \"\"\"\n",
    "    if sys.platform.startswith('win'):\n",
    "        ports = ['COM' + str(i + 1) for i in range(256)]\n",
    "\n",
    "    elif sys.platform.startswith('linux') or sys.platform.startswith('cygwin'):\n",
    "        # this is to exclude your current terminal \"/dev/tty\"\n",
    "        ports = glob.glob('/dev/tty[A-Za-z]*')\n",
    "\n",
    "    elif sys.platform.startswith('darwin'):\n",
    "        ports = glob.glob('/dev/tty.*')\n",
    "\n",
    "    else:\n",
    "        raise EnvironmentError('Unsupported platform')\n",
    "\n",
    "    result = []\n",
    "    for port in ports:\n",
    "        try:\n",
    "            s = serial.Serial(port)\n",
    "            s.close()\n",
    "            result.append(port)\n",
    "        except (OSError, serial.SerialException):\n",
    "            pass\n",
    "    return result"
   ]
  },
  {
   "cell_type": "code",
   "execution_count": 18,
   "metadata": {
    "collapsed": false
   },
   "outputs": [
    {
     "name": "stdout",
     "output_type": "stream",
     "text": [
      "Running on serial port COM5\n"
     ]
    }
   ],
   "source": [
    "current_ports = serial_ports()\n",
    "ser = serial.Serial(current_ports[2], 9600, timeout=1)\n",
    "print 'Running on serial port ' + current_ports[2]\n"
   ]
  },
  {
   "cell_type": "code",
   "execution_count": 19,
   "metadata": {
    "collapsed": true
   },
   "outputs": [],
   "source": [
    "#define interface items that are not buttons\n",
    "#-------- Serial Port Dropdown -------------\n",
    "port_select = widgets.Dropdown(values=serial_ports())\n",
    "\n",
    "def change_port(name, value):\n",
    "    ser.port = value\n",
    "    print \"Serial port changed to \" + ser.port\n",
    "\n",
    "port_select.on_trait_change(change_port, 'value')\n",
    "\n",
    "#--------- Travel Distance Box --------------\n",
    "distance_text = widgets.IntText(description=\"Travel Distance (in micron): \")"
   ]
  },
  {
   "cell_type": "code",
   "execution_count": 20,
   "metadata": {
    "collapsed": true
   },
   "outputs": [],
   "source": [
    "#define buttons\n",
    "container_x = widgets.Box()\n",
    "container_y = widgets.Box()\n",
    "container_z = widgets.Box()\n",
    "container_all = widgets.Box()\n",
    "\n",
    "title_x = widgets.Latex(value=\"X Axis\")\n",
    "title_y = widgets.Latex(value=\"Y Axis\")\n",
    "title_z = widgets.Latex(value=\"Z Axis\")\n",
    "\n",
    "x_plus = widgets.Button(description='+')\n",
    "x_minus = widgets.Button(description='-')\n",
    "\n",
    "y_plus = widgets.Button(description='+')\n",
    "y_minus = widgets.Button(description='-')\n",
    "\n",
    "z_plus = widgets.Button(description='+')\n",
    "z_minus = widgets.Button(description='-')\n",
    "\n",
    "#Assign buttons and labels to containers\n",
    "container_x.children = [title_x,x_plus,x_minus]\n",
    "container_y.children = [title_y,y_plus,y_minus]\n",
    "container_z.children = [title_z,z_plus,z_minus]\n",
    "container_all.children = [container_x,container_y,container_z]"
   ]
  },
  {
   "cell_type": "code",
   "execution_count": 21,
   "metadata": {
    "collapsed": true
   },
   "outputs": [],
   "source": [
    "#button action methods\n",
    "def send_movement_command(XYZ_set, axis, direction, distance):\n",
    "    to_write = str(XYZ_set)+':'+str(axis)+':'+str(direction)+':'+str(distance)+\"\\n\"\n",
    "    ser.write(to_write)\n",
    "    print \"Sent: \" + to_write\n",
    "    \n",
    "def move_x_plus(button):\n",
    "    send_movement_command(1,'x','+',distance_text.value)\n",
    "\n",
    "def move_y_plus(button):\n",
    "    send_movement_command(1,'y','+',distance_text.value)\n",
    "    \n",
    "def move_z_plus(button):\n",
    "    send_movement_command(1,'z','+',distance_text.value)\n",
    "    \n",
    "def move_x_minus(button):\n",
    "    send_movement_command(1,'x','-',distance_text.value)\n",
    "    \n",
    "def move_y_minus(button):\n",
    "    send_movement_command(1,'y','-',distance_text.value)\n",
    "\n",
    "def move_z_minus(button):\n",
    "    send_movement_command(1,'z','-',distance_text.value)\n",
    "    \n",
    "#button action assignments\n",
    "x_plus.on_click(move_x_plus)\n",
    "x_minus.on_click(move_x_minus)\n",
    "y_plus.on_click(move_y_plus)\n",
    "y_minus.on_click(move_y_minus)\n",
    "z_plus.on_click(move_z_plus)\n",
    "z_minus.on_click(move_z_minus)"
   ]
  },
  {
   "cell_type": "code",
   "execution_count": 22,
   "metadata": {
    "collapsed": false
   },
   "outputs": [],
   "source": [
    "#define and set styles\n",
    "#title_css = {\"font-size\":\"20px\",\n",
    "#             \"text-decoration\":\"underline\",\n",
    "#             \"margin-bottom\":\"10px\"}\n",
    "#button_css = {\"width\":\"40px\",\n",
    "#              \"margin\":\"0 auto 2px\"}\n",
    "#container_css = {\"margin-right\":\"10px\"}\n",
    "#container_all_css = {\"flex-direction\":\"row\"}\n",
    "\n",
    "#title_x.set_css(title_css)\n",
    "#title_y.set_css(title_css)\n",
    "#title_z.set_css(title_css)\n",
    "\n",
    "#x_plus.set_css(button_css)\n",
    "#x_minus.set_css(button_css)\n",
    "#y_plus.set_css(button_css)\n",
    "#y_minus.set_css(button_css)\n",
    "#z_plus.set_css(button_css)\n",
    "#z_minus.set_css(button_css)\n",
    "\n",
    "#container_x.set_css(container_css)\n",
    "#container_y.set_css(container_css)\n",
    "#container_z.set_css(container_css)\n",
    "\n",
    "#container_all.set_css(container_all_css)"
   ]
  },
  {
   "cell_type": "code",
   "execution_count": 23,
   "metadata": {
    "collapsed": false
   },
   "outputs": [
    {
     "name": "stdout",
     "output_type": "stream",
     "text": [
      "Sent: 1:y:-:1500\n",
      "\n",
      "Sent: 1:y:+:1500\n",
      "\n",
      "Sent: 1:x:-:1500\n",
      "\n",
      "Sent: 1:x:+:1500\n",
      "\n",
      "Sent: 1:z:-:1500\n",
      "\n",
      "Sent: 1:z:+:1500\n",
      "\n"
     ]
    }
   ],
   "source": [
    "display(port_select)\n",
    "display(distance_text)\n",
    "display(container_all)"
   ]
  },
  {
   "cell_type": "code",
   "execution_count": 24,
   "metadata": {
    "collapsed": false
   },
   "outputs": [
    {
     "data": {
      "text/plain": [
       "''"
      ]
     },
     "execution_count": 24,
     "metadata": {},
     "output_type": "execute_result"
    }
   ],
   "source": [
    "ser.readline()"
   ]
  },
  {
   "cell_type": "code",
   "execution_count": null,
   "metadata": {
    "collapsed": true
   },
   "outputs": [],
   "source": []
  },
  {
   "cell_type": "code",
   "execution_count": null,
   "metadata": {
    "collapsed": true
   },
   "outputs": [],
   "source": []
  },
  {
   "cell_type": "code",
   "execution_count": null,
   "metadata": {
    "collapsed": true
   },
   "outputs": [],
   "source": []
  },
  {
   "cell_type": "code",
   "execution_count": null,
   "metadata": {
    "collapsed": true
   },
   "outputs": [],
   "source": []
  },
  {
   "cell_type": "code",
   "execution_count": null,
   "metadata": {
    "collapsed": true
   },
   "outputs": [],
   "source": []
  },
  {
   "cell_type": "code",
   "execution_count": null,
   "metadata": {
    "collapsed": true
   },
   "outputs": [],
   "source": []
  }
 ],
 "metadata": {
  "kernelspec": {
   "display_name": "Python 2",
   "language": "python",
   "name": "python2"
  },
  "language_info": {
   "codemirror_mode": {
    "name": "ipython",
    "version": 2
   },
   "file_extension": ".py",
   "mimetype": "text/x-python",
   "name": "python",
   "nbconvert_exporter": "python",
   "pygments_lexer": "ipython2",
   "version": "2.7.10"
  }
 },
 "nbformat": 4,
 "nbformat_minor": 0
}
