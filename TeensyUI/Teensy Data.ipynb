{
 "cells": [
  {
   "cell_type": "markdown",
   "metadata": {},
   "source": []
  },
  {
   "cell_type": "markdown",
   "metadata": {},
   "source": [
    "This code is to record the data that is received into the Teensy's ADC. Includes the HV control and replotting the results at the end.\n",
    "\n",
    "See CSV Dataplot notebook to plot old experiment data."
   ]
  },
  {
   "cell_type": "code",
   "execution_count": 1,
   "metadata": {
    "collapsed": true
   },
   "outputs": [],
   "source": [
    "from pyqtgraph import QtGui, QtCore #Provides usage of PyQt4's libraries which aids in UI design\n",
    "import pyqtgraph as pg              #Initiation of plotting code\n",
    "import serial                       #Communication with the serial port is done using the pySerial 2.7 package\n",
    "from datetime import datetime       #Allows us to look at current date and time\n",
    "import dataprocessing               #code for plotting the data from the CSV"
   ]
  },
  {
   "cell_type": "code",
   "execution_count": 2,
   "metadata": {
    "collapsed": true
   },
   "outputs": [],
   "source": [
    "## Always start by initializing Qt (only once per application)\n",
    "app = QtGui.QApplication([])\n",
    "\n",
    "## Define a top-level widget to hold everything (a window)\n",
    "w = QtGui.QWidget()\n",
    "w.resize(1000,600)\n",
    "w.setWindowTitle('Voltage Plots')\n",
    "\n",
    "startBtnClicked = False\n",
    "quitBtnClicked = False"
   ]
  },
  {
   "cell_type": "code",
   "execution_count": 3,
   "metadata": {
    "collapsed": true
   },
   "outputs": [],
   "source": [
    "## This function contains the behavior we want to see when the start button is clicked\n",
    "def startButtonClicked():\n",
    "    global startBtnClicked\n",
    "    global startBtn\n",
    "    if (startBtnClicked == False):\n",
    "        teensySerialData.flushInput() #empty serial buffer for input from the teensy\n",
    "        startBtnClicked = True\n",
    "        startBtn.setText('Stop')\n",
    "            \n",
    "    elif (startBtnClicked == True):\n",
    "        startBtnClicked = False\n",
    "        startBtn.setText('Start')\n",
    "\n",
    "## Below at the end of the update function we check the value of quitBtnClicked\n",
    "def quitButtonClicked():\n",
    "    global quitBtnClicked\n",
    "    quitBtnClicked = True\n",
    "\n",
    "## Buttons to control the High Voltage\n",
    "def HVoffButtonClicked():\n",
    "    teensySerialData.write('0')\n",
    "def HVonButtonClicked():\n",
    "    teensySerialData.write('1')\n",
    "def insertionButtonClicked():\n",
    "    teensySerialData.write('3')\n",
    "def separationButtonClicked():\n",
    "    teensySerialData.write('2')"
   ]
  },
  {
   "cell_type": "markdown",
   "metadata": {},
   "source": [
    "#Start Recording in Widget"
   ]
  },
  {
   "cell_type": "code",
   "execution_count": 4,
   "metadata": {
    "collapsed": false,
    "scrolled": false
   },
   "outputs": [
    {
     "data": {
      "text/plain": [
       "0"
      ]
     },
     "execution_count": 4,
     "metadata": {},
     "output_type": "execute_result"
    }
   ],
   "source": [
    "## Create widgets to be placed inside\n",
    "startBtn = QtGui.QPushButton('Start')\n",
    "startBtn.setToolTip('Click to begin graphing') #This message appears while hovering mouse over button\n",
    "\n",
    "quitBtn = QtGui.QPushButton('Quit')\n",
    "quitBtn.setToolTip('Click to quit program')\n",
    "\n",
    "HVonBtn = QtGui.QPushButton(\"HV on\")\n",
    "HVonBtn.setToolTip('Click to turn the high voltage on')\n",
    "\n",
    "HVoffBtn = QtGui.QPushButton(\"HV off\")\n",
    "HVoffBtn.setToolTip('Click to turn the high voltage off')\n",
    "\n",
    "insBtn = QtGui.QPushButton(\"Insertion\")\n",
    "insBtn.setToolTip('Click to start insertion (#3)')\n",
    "\n",
    "sepBtn = QtGui.QPushButton(\"Separation\")\n",
    "sepBtn.setToolTip('Click to start separation (#2)')\n",
    "\n",
    "## Functions in parantheses are to be called when buttons are clicked\n",
    "startBtn.clicked.connect(startButtonClicked)\n",
    "quitBtn.clicked.connect(quitButtonClicked)\n",
    "HVonBtn.clicked.connect(HVonButtonClicked)\n",
    "HVoffBtn.clicked.connect(HVoffButtonClicked)\n",
    "insBtn.clicked.connect(insertionButtonClicked)\n",
    "sepBtn.clicked.connect(separationButtonClicked)\n",
    "\n",
    "## xSamples is the maximum amount of samples we want graphed at a time\n",
    "xSamples = 30000\n",
    "\n",
    "## Create plot widget for peak detector plot\n",
    "pmtPlotWidget = pg.PlotWidget()\n",
    "pmtPlotWidget.setYRange(0, 4096)\n",
    "pmtPlotWidget.setXRange(0, xSamples)\n",
    "pmtPlotWidget.setLabel('top', text = \"PMT\") #Title to appear at top of widget\n",
    "\n",
    "## Create a grid layout to manage the widgets size and position\n",
    "## The grid layout allows us to place a widget in a given column and row\n",
    "layout = QtGui.QGridLayout()\n",
    "w.setLayout(layout)\n",
    "\n",
    "## Add widgets to the layout in their proper positions\n",
    "## The first number in parantheses is the row, the second is the column\n",
    "layout.addWidget(quitBtn, 0, 0)\n",
    "layout.addWidget(startBtn, 2, 0)\n",
    "layout.addWidget(HVonBtn, 0, 2)\n",
    "layout.addWidget(insBtn, 2, 2)\n",
    "layout.addWidget(sepBtn, 3, 2)\n",
    "layout.addWidget(HVoffBtn, 4, 2)\n",
    "\n",
    "layout.addWidget(pmtPlotWidget, 1, 1)\n",
    "\n",
    "## Display the widget as a new window\n",
    "w.show()\n",
    "\n",
    "## Initialize all global variables\n",
    "\n",
    "## Whenever we plot a range of samples, xLeftIndex is the x value on the\n",
    "## PlotWidget where we start plotting the samples, xRightIndex is where we stop\n",
    "## These values will reset when they reach the value of xSamples\n",
    "xRightIndex = 0\n",
    "xLeftIndex = 0\n",
    "\n",
    "## These arrays will hold the unplotted voltage values from the pmt\n",
    "## and the peak detector until we are able to update the plot\n",
    "pmtData = []\n",
    "\n",
    "## Used to determine how often we plot a range of values\n",
    "graphCount = 0\n",
    "\n",
    "## Time values in microseconds read from the teensy are stored in these variables\n",
    "## Before timeElapsed is updated, we store its old value in timeElapsedPrev\n",
    "timeElapsed = 0\n",
    "timeElapsedPrev = 0\n",
    "\n",
    "## Determines if we are running through the update loop for the first time\n",
    "firstRun = True\n",
    "\n",
    "## Create new file, with the name being today's date and current time and write headings to file in CSV format\n",
    "i = datetime.now()\n",
    "fileName = str(i.year) + str(i.month) + str(i.day) + \"_\" + str(i.hour) + str(i.minute) + str(i.second) + \".csv\"\n",
    "\n",
    "## File is saved to Documents/IPython Notebooks/RecordedData\n",
    "f = open('RecordedData\\\\' + fileName, 'a')\n",
    "f.write(\"#Data from \" + str(i.year) + \"-\" + str(i.month) + \"-\" + str(i.day) + \" at \" + str(i.hour) + \":\" + str(i.minute) + \":\" + str(i.second) + '\\n')\n",
    "f.write(\"Timestamp,PMT\\n\")\n",
    "\n",
    "## Initialize the container for our voltage values read in from the teensy\n",
    "## IMPORTANT NOTE: The com port value needs to be updated if the com value\n",
    "## changes. It's the same number that appears on the bottom right corner of the\n",
    "## window containing the TeensyDataWrite.ino code\n",
    "\n",
    "teensySerialData = serial.Serial(\"COM7\", 115200)\n",
    "\n",
    "def update():\n",
    "    ## Set global precedence to previously defined values\n",
    "    global xSamples\n",
    "    global xRightIndex\n",
    "    global xLeftIndex\n",
    "    global pmtData\n",
    "    global graphCount\n",
    "    global timeElapsed\n",
    "    global timeElapsedPrev\n",
    "    global firstRun\n",
    "    \n",
    "    ## The number of bytes currently waiting to be read in.\n",
    "    ## We want to read these values as soon as possible, because\n",
    "    ## we will lose them if the buffer fills up\n",
    "    bufferSize = teensySerialData.inWaiting()\n",
    "    runCount = bufferSize/8 # since we write 8 bytes at a time, we similarly want to read them 8 at a time\n",
    "    while (runCount > 0):\n",
    "        if (startBtnClicked == True):\n",
    "        \n",
    "            #Read in time (int) and PMT output (float with up to 5 decimal places)\n",
    "            \n",
    "            temp = []\n",
    "            temp.append(teensySerialData.readline().strip().split(',') )\n",
    "            \n",
    "            timeElapsedPrev = timeElapsed\n",
    "            timeElapsed = int (temp[0][0])\n",
    "            \n",
    "            if (firstRun == True):\n",
    "                ## Only run once to ensure buffer is completely flushed\n",
    "                firstRun = False\n",
    "                teensySerialData.flushInput()\n",
    "                break\n",
    "                \n",
    "            # We'll add all our values to this string until we're ready to exit the loop, at which point it will be written to a file\n",
    "            stringToWrite = str(timeElapsed) + \",\"\n",
    "            \n",
    "            ## This difference calucalted in the if statement is the amount of time in microseconds since the last value \n",
    "            ## we read in and wrote to a file. If this value is significantly greater than 100, we know we have missed some \n",
    "            ## values, probably as a result of the buffer filling up and scrapping old values to make room for new values.\n",
    "            ## The number we print out will be the approximate number of values we failed to read in.\n",
    "            ## This is useful to determine if your code is running too slow\n",
    "            if (timeElapsed - timeElapsedPrev > 8000):\n",
    "                print(str((timeElapsed-timeElapsedPrev)/7400))\n",
    "                \n",
    "            numData = float (temp[0][1])\n",
    "            \n",
    "            pmtData.append(numData)\n",
    "            stringToWrite = stringToWrite + str(numData) + '\\n'\n",
    "            f.write(stringToWrite)\n",
    "            graphCount = graphCount + 1\n",
    "            xRightIndex = xRightIndex + 1\n",
    "        runCount = runCount - 1\n",
    "        \n",
    "    ## We will start plotting when the start button is clicked\n",
    "    if startBtnClicked == True:\n",
    "        if (graphCount >= 500): #We will plot new values once we have this many values to plot\n",
    "            if (xLeftIndex == 0):\n",
    "                ## Remove all PlotDataItems from the PlotWidgets. This will effectively reset the graphs (approximately every 30000 samples)\n",
    "                #pmtPlotWidget.clear()\n",
    "                pmtPlotWidget.clear()\n",
    "                \n",
    "            ## pmtCurve are of the PlotDataItem type and are added to the PlotWidget.\n",
    "            ## Documentation for these types can be found on pyqtgraph's website\n",
    "\n",
    "            pmtCurve = pmtPlotWidget.plot()\n",
    "            xRange = range(xLeftIndex,xRightIndex)\n",
    "            pmtCurve.setData(xRange, pmtData)\n",
    "            \n",
    "            ## Now that we've plotting the values, we no longer need these arrays to store them\n",
    "            pmtData = []\n",
    "            xLeftIndex = xRightIndex\n",
    "            graphCount = 0\n",
    "            if(xRightIndex >= xSamples):\n",
    "                xRightIndex = 0\n",
    "                xLeftIndex = 0\n",
    "                pmtData = []\n",
    "                \n",
    "    if(quitBtnClicked == True):\n",
    "        ## Close the file and close the window. Performing this action here ensures values we want to write to the file won't be cut off\n",
    "        f.close()\n",
    "        w.close()\n",
    "        \n",
    "## Run update function in response to a timer    \n",
    "timer = QtCore.QTimer()\n",
    "timer.timeout.connect(update)\n",
    "timer.start(0)\n",
    "\n",
    "\n",
    "## Start the Qt event loop\n",
    "app.exec_()"
   ]
  },
  {
   "cell_type": "code",
   "execution_count": 6,
   "metadata": {
    "collapsed": false
   },
   "outputs": [
    {
     "name": "stderr",
     "output_type": "stream",
     "text": [
      "C:\\Users\\Kyle\\Anaconda\\lib\\site-packages\\numpy\\lib\\npyio.py:816: UserWarning: loadtxt: Empty input file: \"<open file 'RecordedData\\\\2015724_133056.csv', mode 'rb' at 0x0000000010E291E0>\"\n",
      "  warnings.warn('loadtxt: Empty input file: \"%s\"' % fname)\n"
     ]
    },
    {
     "ename": "IndexError",
     "evalue": "too many indices",
     "output_type": "error",
     "traceback": [
      "\u001b[1;31m---------------------------------------------------------------------------\u001b[0m",
      "\u001b[1;31mIndexError\u001b[0m                                Traceback (most recent call last)",
      "\u001b[1;32m<ipython-input-6-75471eae152f>\u001b[0m in \u001b[0;36m<module>\u001b[1;34m()\u001b[0m\n\u001b[1;32m----> 1\u001b[1;33m \u001b[0mdataprocessing\u001b[0m\u001b[1;33m.\u001b[0m\u001b[0mCSV_Data_plot\u001b[0m\u001b[1;33m(\u001b[0m\u001b[0mfileName\u001b[0m\u001b[1;33m)\u001b[0m\u001b[1;33m\u001b[0m\u001b[0m\n\u001b[0m",
      "\u001b[1;32mC:\\Users\\Kyle\\Documents\\GitHub\\LIFSrProj_SpSu15\\TeensyUI\\dataprocessing.pyc\u001b[0m in \u001b[0;36mCSV_Data_plot\u001b[1;34m(current_file)\u001b[0m\n\u001b[0;32m     52\u001b[0m     \u001b[0mlayout\u001b[0m\u001b[1;33m.\u001b[0m\u001b[0maddWidget\u001b[0m\u001b[1;33m(\u001b[0m\u001b[0mpdPlotWidget\u001b[0m\u001b[1;33m,\u001b[0m \u001b[1;36m1\u001b[0m\u001b[1;33m,\u001b[0m \u001b[1;36m3\u001b[0m\u001b[1;33m,\u001b[0m \u001b[1;36m1\u001b[0m\u001b[1;33m,\u001b[0m \u001b[1;36m1\u001b[0m\u001b[1;33m)\u001b[0m\u001b[1;33m\u001b[0m\u001b[0m\n\u001b[0;32m     53\u001b[0m \u001b[1;33m\u001b[0m\u001b[0m\n\u001b[1;32m---> 54\u001b[1;33m     \u001b[0mpmtCurve\u001b[0m\u001b[1;33m.\u001b[0m\u001b[0msetData\u001b[0m\u001b[1;33m(\u001b[0m\u001b[0mdata\u001b[0m\u001b[1;33m[\u001b[0m\u001b[1;33m:\u001b[0m\u001b[1;33m,\u001b[0m\u001b[1;36m1\u001b[0m\u001b[1;33m]\u001b[0m\u001b[1;33m)\u001b[0m\u001b[1;33m\u001b[0m\u001b[0m\n\u001b[0m\u001b[0;32m     55\u001b[0m     \u001b[0mpdCurve\u001b[0m\u001b[1;33m.\u001b[0m\u001b[0msetData\u001b[0m\u001b[1;33m(\u001b[0m\u001b[0mdata\u001b[0m\u001b[1;33m[\u001b[0m\u001b[1;33m:\u001b[0m\u001b[1;33m,\u001b[0m\u001b[1;36m2\u001b[0m\u001b[1;33m]\u001b[0m\u001b[1;33m)\u001b[0m\u001b[1;33m\u001b[0m\u001b[0m\n\u001b[0;32m     56\u001b[0m \u001b[1;33m\u001b[0m\u001b[0m\n",
      "\u001b[1;31mIndexError\u001b[0m: too many indices"
     ]
    }
   ],
   "source": [
    "dataprocessing.CSV_Data_plot(fileName)"
   ]
  },
  {
   "cell_type": "code",
   "execution_count": null,
   "metadata": {
    "collapsed": false
   },
   "outputs": [],
   "source": []
  },
  {
   "cell_type": "code",
   "execution_count": null,
   "metadata": {
    "collapsed": true
   },
   "outputs": [],
   "source": []
  }
 ],
 "metadata": {
  "kernelspec": {
   "display_name": "Python 2",
   "language": "python",
   "name": "python2"
  },
  "language_info": {
   "codemirror_mode": {
    "name": "ipython",
    "version": 2
   },
   "file_extension": ".py",
   "mimetype": "text/x-python",
   "name": "python",
   "nbconvert_exporter": "python",
   "pygments_lexer": "ipython2",
   "version": "2.7.10"
  }
 },
 "nbformat": 4,
 "nbformat_minor": 0
}
