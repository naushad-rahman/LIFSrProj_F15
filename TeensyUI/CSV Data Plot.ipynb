{
 "cells": [
  {
   "cell_type": "markdown",
   "metadata": {
    "collapsed": true
   },
   "source": [
    "This will give a plot of our data that we record to a CSV file.\n",
    "Just put in the name of the file in from the RecordedData file Year/Month/Day."
   ]
  },
  {
   "cell_type": "code",
   "execution_count": 1,
   "metadata": {
    "collapsed": true
   },
   "outputs": [],
   "source": [
    "from pyqtgraph import QtGui, QtCore\n",
    "import pyqtgraph as pg\n",
    "import numpy as np"
   ]
  },
  {
   "cell_type": "code",
   "execution_count": 2,
   "metadata": {
    "collapsed": false
   },
   "outputs": [
    {
     "data": {
      "text/plain": [
       "0"
      ]
     },
     "execution_count": 2,
     "metadata": {},
     "output_type": "execute_result"
    }
   ],
   "source": [
    "data = np.loadtxt(open('python_scripts\\\\RecordedData\\\\2015727_103245.csv',\"rb\"),delimiter=\",\",skiprows=2)\n",
    "\n",
    "## Always start by initializing Qt (only once per application)\n",
    "app = QtGui.QApplication([])\n",
    "\n",
    "## Define a top-level widget to hold everything\n",
    "w = QtGui.QWidget()\n",
    "w.resize(1000,600)\n",
    "w.setWindowTitle('Voltage Plots')\n",
    "\n",
    "numSamples = data.shape[0]\n",
    "\n",
    "#Create Plot Widgets\n",
    "pmtPlotWidget = pg.PlotWidget()\n",
    "pmtPlotWidget.setSizePolicy(QtGui.QSizePolicy.Expanding, QtGui.QSizePolicy.Expanding)\n",
    "pmtPlotWidget.setYRange(0, 4096)\n",
    "pmtPlotWidget.setLabel('top', text = \"PMT\")\n",
    "pmtCurve = pmtPlotWidget.plot()\n",
    "\n",
    "lowerBound = QtGui.QSpinBox()\n",
    "lowerBound.setRange(0,numSamples)\n",
    "lowerBound.setSingleStep(100)\n",
    "\n",
    "upperBound = QtGui.QSpinBox()\n",
    "upperBound.setRange(0,numSamples)\n",
    "upperBound.setSingleStep(100)\n",
    "upperBound.setValue(numSamples)\n",
    "\n",
    "lowerBoundValue = 0\n",
    "upperBoundValue = numSamples\n",
    "\n",
    "## Create a grid layout to manage the widgets size and position\n",
    "layout = QtGui.QGridLayout()\n",
    "w.setLayout(layout)\n",
    "\n",
    "## Add widgets to the layout in their proper positions\n",
    "layout.addWidget(lowerBound, 1, 0)\n",
    "layout.addWidget(upperBound, 1, 1)\n",
    "layout.addWidget(pmtPlotWidget, 1, 2, 1, 1)  # wGL goes on right side, spanning 3 rows\n",
    "\n",
    "pmtCurve.setData(data[:,1])\n",
    "\n",
    "## Display the widget as a new window\n",
    "w.show()\n",
    "\n",
    "def update():\n",
    "    pmtPlotWidget.setXRange(lowerBound.value(), upperBound.value())\n",
    "    upperBound.setMinimum(lowerBound.value() + 1)\n",
    "    lowerBound.setMaximum(upperBound.value() - 1)\n",
    "\n",
    "timer = QtCore.QTimer()\n",
    "timer.timeout.connect(update)\n",
    "timer.start(50)\n",
    "\n",
    "## Start the Qt event loop\n",
    "app.exec_()"
   ]
  },
  {
   "cell_type": "code",
   "execution_count": null,
   "metadata": {
    "collapsed": true
   },
   "outputs": [],
   "source": []
  },
  {
   "cell_type": "code",
   "execution_count": null,
   "metadata": {
    "collapsed": true
   },
   "outputs": [],
   "source": []
  }
 ],
 "metadata": {
  "kernelspec": {
   "display_name": "Python 2",
   "language": "python",
   "name": "python2"
  },
  "language_info": {
   "codemirror_mode": {
    "name": "ipython",
    "version": 2
   },
   "file_extension": ".py",
   "mimetype": "text/x-python",
   "name": "python",
   "nbconvert_exporter": "python",
   "pygments_lexer": "ipython2",
   "version": "2.7.10"
  }
 },
 "nbformat": 4,
 "nbformat_minor": 0
}
