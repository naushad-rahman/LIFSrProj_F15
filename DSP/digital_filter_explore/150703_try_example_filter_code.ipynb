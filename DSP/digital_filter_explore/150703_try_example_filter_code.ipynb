{
 "cells": [
  {
   "cell_type": "code",
   "execution_count": 1,
   "metadata": {
    "collapsed": true
   },
   "outputs": [],
   "source": [
    "import numpy as np\n",
    "import matplotlib.pyplot as plt\n",
    "%matplotlib inline\n",
    "from __future__ import division\n",
    "from __future__ import print_function"
   ]
  },
  {
   "cell_type": "markdown",
   "metadata": {},
   "source": [
    "This c code from _FirAlgs.c_ seems to be ok\n",
    "\n",
    "    /****************************************************************************\n",
    "    * fir_basic: This does the basic FIR algorithm: store input sample, calculate  \n",
    "    * output sample, shift delay line                                           \n",
    "    *****************************************************************************/\n",
    "    SAMPLE fir_basic(SAMPLE input, int ntaps, const SAMPLE h[], SAMPLE z[])       \n",
    "    {\n",
    "        int ii;\n",
    "        SAMPLE accum;\n",
    "\n",
    "        /* store input at the beginning of the delay line */\n",
    "        z[0] = input;\n",
    "\n",
    "        /* calc FIR */\n",
    "        accum = 0;\n",
    "        for (ii = 0; ii < ntaps; ii++) {\n",
    "            accum += h[ii] * z[ii];\n",
    "        }\n",
    "\n",
    "        /* shift delay line */\n",
    "        for (ii = ntaps - 2; ii >= 0; ii--) {\n",
    "            z[ii + 1] = z[ii];\n",
    "        }\n",
    "\n",
    "        return accum;\n",
    "    }\n"
   ]
  },
  {
   "cell_type": "markdown",
   "metadata": {},
   "source": [
    "This test code below from the same file has problems:\n",
    "- z should be the same length as h (i.e., delay line should be same size as array of coefficients)\n",
    "- the macro definition of IMP_SIZE is commented out and shouldn't be"
   ]
  },
  {
   "cell_type": "markdown",
   "metadata": {},
   "source": [
    "    define NTAPS 6\n",
    "    static const SAMPLE h[NTAPS] = { 1.0, 2.0, 3.0, 4.0, 5.0, 6.0 };\n",
    "    static SAMPLE h2[2 * NTAPS];\n",
    "    static SAMPLE z[2 * NTAPS];\n",
    "    #define IMP_SIZE (3 * NTAPS)\n",
    "    static SAMPLE imp[IMP_SIZE];\n",
    "    SAMPLE output;\n",
    "    int ii, state;\n",
    "\n",
    "    /* make impulse input signal */\n",
    "    clear(IMP_SIZE, imp);\n",
    "    imp[5] = 1.0;\n",
    "\n",
    "    /* create h2 by doubling h */\n",
    "    for (ii = 0; ii < NTAPS; ii++) {\n",
    "        h2[ii] = h2[ii + NTAPS] = h[ii];\n",
    "    }\n",
    "\n",
    "    /* test FIR algorithms */\n",
    "\n",
    "    printf(\"Testing fir_basic:\\n   \");\n",
    "    clear(NTAPS, z);\n",
    "    for (ii = 0; ii < IMP_SIZE; ii++) {\n",
    "        output = fir_basic(imp[ii], NTAPS, h, z);\n",
    "        printf(\"%3.1lf \", (double) output);\n",
    "    }   "
   ]
  },
  {
   "cell_type": "code",
   "execution_count": 14,
   "metadata": {
    "collapsed": true
   },
   "outputs": [],
   "source": [
    "def fir_basic(new_value):\n",
    "    z[0] = new_value\n",
    "    accum = 0\n",
    "    for i in range(len(h)):\n",
    "        accum += h[i] * z[i]\n",
    "    # shift values to right in z buffer\n",
    "    for i in range(len(h)-2, -1, -1):\n",
    "        z[i+1] = z[i]\n",
    "    #print(z, '\\n', h)\n",
    "    return accum"
   ]
  },
  {
   "cell_type": "code",
   "execution_count": 15,
   "metadata": {
    "collapsed": false
   },
   "outputs": [
    {
     "name": "stdout",
     "output_type": "stream",
     "text": [
      "[ 0.  1.  0.  0.  0.  0.  0.  0.  0.]\n",
      "[ 0.  0.  0.]\n",
      "[ 1.  2.  3.]\n"
     ]
    }
   ],
   "source": [
    "ntaps = 3\n",
    "#h = [1.0, 2.0, 3.0, 4.0, 5.0, 6.0]\n",
    "h = np.linspace(1.0,ntaps, num=ntaps)\n",
    "z = np.zeros(ntaps)\n",
    "imp_size = 3*ntaps\n",
    "imp = np.zeros(imp_size)\n",
    "imp[1] = 1.0\n",
    "print(imp)\n",
    "print(z)\n",
    "print(h)"
   ]
  },
  {
   "cell_type": "code",
   "execution_count": 16,
   "metadata": {
    "collapsed": false
   },
   "outputs": [
    {
     "name": "stdout",
     "output_type": "stream",
     "text": [
      "0 0.0 [ 0.  0.  0.  0.  0.  0.  0.  0.  0.] [ 0.  0.  0.]\n",
      "1 1.0 [ 0.  1.  0.  0.  0.  0.  0.  0.  0.] [ 1.  1.  0.]\n",
      "2 0.0 [ 0.  1.  2.  0.  0.  0.  0.  0.  0.] [ 0.  0.  1.]\n",
      "3 0.0 [ 0.  1.  2.  3.  0.  0.  0.  0.  0.] [ 0.  0.  0.]\n",
      "4 0.0 [ 0.  1.  2.  3.  0.  0.  0.  0.  0.] [ 0.  0.  0.]\n",
      "5 0.0 [ 0.  1.  2.  3.  0.  0.  0.  0.  0.] [ 0.  0.  0.]\n",
      "6 0.0 [ 0.  1.  2.  3.  0.  0.  0.  0.  0.] [ 0.  0.  0.]\n",
      "7 0.0 [ 0.  1.  2.  3.  0.  0.  0.  0.  0.] [ 0.  0.  0.]\n",
      "8 0.0 [ 0.  1.  2.  3.  0.  0.  0.  0.  0.] [ 0.  0.  0.]\n",
      "z: [ 0.  0.  0.]\n",
      "   [ 0.  1.  2.  3.  0.  0.  0.  0.  0.]\n"
     ]
    }
   ],
   "source": [
    "output = np.zeros(imp_size)\n",
    "for i in range(imp_size):\n",
    "    output[i] = fir_basic(imp[i])\n",
    "    print(i, imp[i], output, z)\n",
    "print('z:', z)\n",
    "print('  ', output)"
   ]
  },
  {
   "cell_type": "markdown",
   "metadata": {
    "collapsed": true
   },
   "source": [
    "Array for delay line, z, should have the same length as the array of filter coefficients, h."
   ]
  },
  {
   "cell_type": "code",
   "execution_count": null,
   "metadata": {
    "collapsed": true
   },
   "outputs": [],
   "source": []
  }
 ],
 "metadata": {
  "kernelspec": {
   "display_name": "Python 2",
   "language": "python",
   "name": "python2"
  },
  "language_info": {
   "codemirror_mode": {
    "name": "ipython",
    "version": 2
   },
   "file_extension": ".py",
   "mimetype": "text/x-python",
   "name": "python",
   "nbconvert_exporter": "python",
   "pygments_lexer": "ipython2",
   "version": "2.7.10"
  }
 },
 "nbformat": 4,
 "nbformat_minor": 0
}
