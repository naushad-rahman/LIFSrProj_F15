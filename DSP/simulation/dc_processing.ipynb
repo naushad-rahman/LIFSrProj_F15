{
 "metadata": {
  "name": "",
  "signature": "sha256:0223d2daf773b63eff97abc93465e77d3077164c50153e1e479191dff8d3539a"
 },
 "nbformat": 3,
 "nbformat_minor": 0,
 "worksheets": [
  {
   "cells": [
    {
     "cell_type": "heading",
     "level": 1,
     "metadata": {},
     "source": [
      "DC Processing Simulation and Post Processing"
     ]
    },
    {
     "cell_type": "heading",
     "level": 2,
     "metadata": {},
     "source": [
      "Module Imports"
     ]
    },
    {
     "cell_type": "code",
     "collapsed": false,
     "input": [
      "import numpy as np\n",
      "import matplotlib.pyplot as plt\n",
      "%matplotlib inline\n",
      "from scipy import signal\n",
      "import csv\n",
      "from __future__ import division\n",
      "from __future__ import print_function"
     ],
     "language": "python",
     "metadata": {},
     "outputs": [],
     "prompt_number": 82
    },
    {
     "cell_type": "heading",
     "level": 2,
     "metadata": {},
     "source": [
      "Parameter Controls"
     ]
    },
    {
     "cell_type": "code",
     "collapsed": false,
     "input": [
      "# Define Processing Parameters\n",
      "SAMPLE_RATE = 1000 #Samples/second (hypothetical value)\n",
      "#SAMPLE_RATE = 9091 #Samples/second\n",
      "\n",
      "# Thresholding Parameters (Standard Deviation Based)\n",
      "FLUORESCE_PERIOD_MIN = 0.1 #Seconds\n",
      "THRESHOLD_WIDTH = FLUORESCE_PERIOD_MIN * SAMPLE_RATE #Samples\n",
      "THRESHOLD_STD = 2 #standard deviations (from mean to set height threshold)\n",
      "THRESHOLD_FILTER = np.ones(THRESHOLD_WIDTH) / THRESHOLD_WIDTH\n",
      "\n",
      "# Calibration Parameters\n",
      "CALIBRATION_PERIOD = 0.1 #Seconds\n",
      "CALIBRATION_WIDTH = int(CALIBRATION_PERIOD * SAMPLE_RATE) #samples"
     ],
     "language": "python",
     "metadata": {},
     "outputs": [],
     "prompt_number": 93
    },
    {
     "cell_type": "heading",
     "level": 2,
     "metadata": {},
     "source": [
      "Data Definition"
     ]
    },
    {
     "cell_type": "markdown",
     "metadata": {},
     "source": [
      "Two options are available for data. The first is a sinthesized data model and the second loads recorded data sets from experiments"
     ]
    },
    {
     "cell_type": "heading",
     "level": 3,
     "metadata": {},
     "source": [
      "Sinthesized Data Model"
     ]
    },
    {
     "cell_type": "markdown",
     "metadata": {},
     "source": [
      "Received signal is modeled as a gaussian distribution whose period is defined as the width accross three standard deviations\n",
      "\n",
      "Marker Fluorescence: $x(t)$ modeled as gaussian with flouresce\n",
      "\n",
      "Laser Signal: $u(t) = ax(t) + b$ where $a$ is the laser brightness and $b$ the bias (for modulated $u(t) = acos(\\omega _0t) + b$)\n",
      "\n",
      "Pink Noise (1/f): $v(t)$\n",
      "\n",
      "Johnson Noise (white gaussian): $w(t)$\n",
      "\n",
      "Receiver and Amplification Gain: $c$\n",
      "\n",
      "Received Signal Model: $y(t)$\n",
      "$$ y(t) = c(x(t) + v(t) + w(t))u(t) + b $$\n",
      "\n",
      "Because $v(t)$ and $w(t)$ are probabilistic equations we can replace with $v'(t)$ and $w'(t)$ which are also probabilistic\n",
      "\n",
      "$$ cv(t)u(t) = v'(t) + cu(t) $$\n",
      "$$ cw(t)u(t) = w'(t) + cu(t) $$\n",
      "\n",
      "With this substitution we get\n",
      "\n",
      "$$ y(t) = cx(t)u(t) + v'(t) + w'(t) + b $$\n",
      "\n",
      "Modeled for DC Laser: $$ y(t) = cax(t) + v'(t) + w'(t) + b $$\n",
      "Modeled for Modulated Laser: $$ y(t) = cacos(\\omega _0t)x(t) + v'(t) + w'(t) + b $$\n",
      "\n",
      "Note: because $v'(t)$ and $w'(t)$ are random variables of the same distribution as $v(t)$ and $w(t)$ all python code replaces $v'(t)$ with $v(t)$ and $w'(t)$ with $w(t)$"
     ]
    },
    {
     "cell_type": "code",
     "collapsed": false,
     "input": [
      "# Define synthesized test data\n",
      "SIMULATION_TIME = 5 #Second\n",
      "TEST_LENGTH = 100000 #Samples (Original Development Lenght)\n",
      "#TEST_LENGTH = SIMULATION_TIME * SAMPLE_RATE + 1 #Samples\n",
      "FLUORESCE_PERIOD = 0.500 #Seconds\n",
      "VIEW_WIDTH = 1000\n",
      "VIEW_RNG = range(TEST_LENGTH//2-VIEW_WIDTH,TEST_LENGTH//2+VIEW_WIDTH)\n",
      "\n",
      "# Define signal parameters\n",
      "a = 0.5 #laser brightness gain\n",
      "b = 0.5 #PMT DC offset\n",
      "c = 1 #PMT gain\n",
      "v_scl = 0.3 #Pink noise scale\n",
      "vf_c = 80.0 #Hz cuttoff frequency of pink noise\n",
      "w_scl = 0.4 #White noise scale\n",
      "\n",
      "# Calculate signal definitions\n",
      "x_std = FLUORESCE_PERIOD * SAMPLE_RATE / 3 # /3 to make the period over 3 standard deviations\n",
      "vbin_c = vf_c / SAMPLE_RATE * TEST_LENGTH\n",
      "v_shape = (vbin_c/2) / np.arange(1,(TEST_LENGTH/2)+1)\n",
      "v_shape[0:vbin_c] = 1 - np.arange(0,vbin_c) / (2*vbin_c)\n",
      "v_shape = np.concatenate((v_shape, v_shape[::-1]))\n",
      "\n",
      "# Create signal functions\n",
      "steps = range(0, TEST_LENGTH)\n",
      "step_size = 1.0 / SAMPLE_RATE\n",
      "t = np.arange(0.0,TEST_LENGTH) / SAMPLE_RATE\n",
      "u = a #for DC processing\n",
      "x = signal.gaussian(TEST_LENGTH, x_std)\n",
      "v = np.random.normal(0, v_scl, TEST_LENGTH)\n",
      "v = np.fft.fft(v) * v_shape\n",
      "v = np.real(np.fft.ifft(v))\n",
      "w = np.random.normal(0, w_scl, TEST_LENGTH)\n",
      "\n",
      "# Define y system response signal\n",
      "y = c*u*x + v + w + b"
     ],
     "language": "python",
     "metadata": {},
     "outputs": [],
     "prompt_number": 84
    },
    {
     "cell_type": "markdown",
     "metadata": {},
     "source": [
      "As an alternate option to randomly defining data at runtime, a few sets of random data have been recorded which can be loaded and run through the script"
     ]
    },
    {
     "cell_type": "code",
     "collapsed": false,
     "input": [],
     "language": "python",
     "metadata": {},
     "outputs": [],
     "prompt_number": 84
    },
    {
     "cell_type": "heading",
     "level": 3,
     "metadata": {},
     "source": [
      "Recorded Data Definition"
     ]
    },
    {
     "cell_type": "code",
     "collapsed": false,
     "input": [
      "# Define recorded data inputs\n",
      "DATA_FOLDER = 'RecordedData/'\n",
      "FILEID_SELECT = 'FIRST_READ'\n",
      "DATA_FILE = dict()\n",
      "INSERTION_TIME = dict()\n",
      "SEPARATION_TIME = dict()\n",
      "VOLTAGEOFF_TIME = dict()\n",
      "\n",
      "# First fluorophore read: November 10, 2015 (2:45 pm)\n",
      "FILEID = 'FIRST_READ'\n",
      "DATA_FILE[FILEID] = '20151110_144527.csv'\n",
      "INSERTION_TIME[FILEID] = 1661221714\n",
      "SEPARATION_TIME[FILEID] = 1868641674\n",
      "VOLTAGEOFF_TIME[FILEID] = 2241842854\n",
      "\n",
      "# Open data file\n",
      "recorded_time = []\n",
      "recorded_data = []\n",
      "with open(DATA_FOLDER + DATA_FILE[FILEID], 'rb') as csv_file:\n",
      "    data_csv = csv.reader(csv_file, delimiter=',')\n",
      "    for row in data_csv:\n",
      "        recorded_time.append(int(row[0]))\n",
      "        recorded_data.append(int(row[1]))\n",
      "\n",
      "data_start = recorded_time.index(INSERTION_TIME[FILEID_SELECT])\n",
      "data_end = recorded_time.index(VOLTAGEOFF_TIME[FILEID_SELECT])\n",
      "recorded_data = np.asarray(recorded_data[data_start:data_end])\n",
      "recorded_time = np.asarray(recorded_time[data_start:data_end])"
     ],
     "language": "python",
     "metadata": {},
     "outputs": [],
     "prompt_number": 94
    },
    {
     "cell_type": "heading",
     "level": 3,
     "metadata": {},
     "source": [
      "Data Selection"
     ]
    },
    {
     "cell_type": "markdown",
     "metadata": {},
     "source": [
      "Data can be selected by commenting out the signals with the desired data definition"
     ]
    },
    {
     "cell_type": "code",
     "collapsed": false,
     "input": [
      "# Select data set for processing simulation\n",
      "# Uncomment for simulated data processing\n",
      "#y = y\n",
      "#t = t\n",
      "\n",
      "# Uncomment for recorded data processing\n",
      "y = recorded_data\n",
      "t = recorded_time"
     ],
     "language": "python",
     "metadata": {},
     "outputs": [],
     "prompt_number": 95
    },
    {
     "cell_type": "heading",
     "level": 2,
     "metadata": {},
     "source": [
      "Filter Definition"
     ]
    },
    {
     "cell_type": "heading",
     "level": 3,
     "metadata": {},
     "source": [
      "Define Filters"
     ]
    },
    {
     "cell_type": "code",
     "collapsed": false,
     "input": [
      "# Define low-pass filters\n",
      "\n",
      "# Spring/Summer team filter\n",
      "spsu_lp_filter = [0.000326, 0.000692, 0.001207, 0.001891, 0.002756, 0.003806, 0.005036, 0.006430, 0.007961, 0.009591, \n",
      "           0.011275, 0.012958, 0.014582, 0.016086, 0.017413, 0.018507, 0.019325, 0.019829, 0.020000, 0.019829, \n",
      "           0.019325, 0.018507, 0.017413, 0.016086, 0.014582, 0.012958, 0.011275, 0.009591, 0.007961, 0.006430, \n",
      "           0.005036, 0.003806, 0.002756, 0.001891, 0.001207, 0.000692, 0.000326]\n",
      "\n",
      "# Spring/Summer team filter normalized\n",
      "spsu_lp_filter_norm = spsu_lp_filter / np.sum(spsu_lp_filter)"
     ],
     "language": "python",
     "metadata": {},
     "outputs": [],
     "prompt_number": 96
    },
    {
     "cell_type": "heading",
     "level": 3,
     "metadata": {},
     "source": [
      "Plot Filter Frequency Characteristics"
     ]
    },
    {
     "cell_type": "code",
     "collapsed": false,
     "input": [
      "# Select low-pass filter\n",
      "lp_filter = spsu_lp_filter_norm\n",
      "\n",
      "# Plot filter characteristics\n",
      "LP_FILTER = np.fft.fft(lp_filter)\n",
      "LP_FILTER_LENGTH = len(LP_FILTER)\n",
      "\n",
      "fig, (ax, ax2) = plt.subplots(2, figsize=(8,8))\n",
      "ax.plot(np.arange(len(LP_FILTER))*1.0/len(LP_FILTER),abs(LP_FILTER))\n",
      "ax.set_title('Filter Frequency Magnitude')\n",
      "ax.set_ylabel('Frequency Gain')\n",
      "ax2.plot(np.arange(len(LP_FILTER))*1.0/len(LP_FILTER), np.angle(LP_FILTER)/np.pi)\n",
      "ax2.set_title('Filter Frequency Phase')\n",
      "ax2.set_xlabel('Frequency ($\\pi$ rad/sample)')\n",
      "ax2.set_ylabel('Phase in ($\\pi$ rad)')\n",
      "plt.show()"
     ],
     "language": "python",
     "metadata": {},
     "outputs": [
      {
       "metadata": {},
       "output_type": "display_data",
       "png": "[encoded data removed]",
       "text": [
        "<matplotlib.figure.Figure at 0x7f020aa6fa90>"
       ]
      }
     ],
     "prompt_number": 97
    },
    {
     "cell_type": "heading",
     "level": 2,
     "metadata": {},
     "source": [
      "Filter, Calibrate, and Zero Center Data"
     ]
    },
    {
     "cell_type": "code",
     "collapsed": false,
     "input": [
      "# Filter received signal and subtract callibration mean\n",
      "h = signal.convolve(y, lp_filter)\n",
      "h = h[len(lp_filter)-1:len(h)]\n",
      "\n",
      "# Callabration of processing\n",
      "CALIBRATION_START = 0 #Sample at which to start callibration\n",
      "CALIBRATION_END = CALIBRATION_START + CALIBRATION_WIDTH #Sample at which to end callibration\n",
      "cal_rng = range(CALIBRATION_START,CALIBRATION_END)\n",
      "\n",
      "# Calculate mean and standard deviation of unfiltered signal\n",
      "y_mean = np.mean(y[cal_rng])\n",
      "y_std = np.std(y[cal_rng])\n",
      "print('Unfiltered Mean:', y_mean)\n",
      "print('Unfiltered Standard Deviation:', y_std)\n",
      "\n",
      "# Print mean and statndard deviation of filtered signal\n",
      "h_mean = np.mean(h[cal_rng])\n",
      "h_std = np.std(h[cal_rng])\n",
      "print('Filtered Mean:', h_mean)\n",
      "print('Filtered Standard Deviation:', h_std)\n",
      "\n",
      "# Subtract filtered mean (Baseline) from filtered signal\n",
      "h = h - h_mean"
     ],
     "language": "python",
     "metadata": {},
     "outputs": [
      {
       "output_type": "stream",
       "stream": "stdout",
       "text": [
        "Unfiltered Mean: 71.6171617162\n",
        "Unfiltered Standard Deviation: 12.1967178166\n",
        "Filtered Mean: 71.6944518976\n",
        "Filtered Standard Deviation: 5.0651696092\n"
       ]
      }
     ],
     "prompt_number": 98
    },
    {
     "cell_type": "heading",
     "level": 2,
     "metadata": {},
     "source": [
      "Plot Full Data Set"
     ]
    },
    {
     "cell_type": "code",
     "collapsed": false,
     "input": [
      "# Plot received singal with filtered callibrated signal\n",
      "fig, (ax, ax2) = plt.subplots(2, figsize=(18,12))\n",
      "ax.plot(t, y)\n",
      "ax.set_title('Unfiltered PMT Signal')\n",
      "ax.set_xlabel('time (s)')\n",
      "ax.set_ylabel('ADC Reading (binary value)')\n",
      "\n",
      "ax2.plot(t, h)\n",
      "ax2.set_title('Filtered, Zero Centered PMT Signal')\n",
      "ax2.set_xlabel('time (s)')\n",
      "ax2.set_ylabel('Filtered ADC Reading (float value)')\n",
      "\n",
      "plt.show()"
     ],
     "language": "python",
     "metadata": {},
     "outputs": [
      {
       "metadata": {},
       "output_type": "display_data",
       "png": "[encoded data removed]",
       "text": [
        "<matplotlib.figure.Figure at 0x7f020d120d90>"
       ]
      }
     ],
     "prompt_number": 99
    },
    {
     "cell_type": "heading",
     "level": 2,
     "metadata": {},
     "source": [
      "Thresholding and Sample Detection Reporting"
     ]
    },
    {
     "cell_type": "code",
     "collapsed": false,
     "input": [
      "# Threshold and identify sample (hard threshold)\n",
      "#SIGNAL_THRESHOLD = 0.2 #Numeric value at which to truncate\n",
      "#WIDTH_THRESHOLD = FLUORESCE_PERIOD_MIN * SAMPLE_RATE #Samples\n",
      "#h_ht = h > SIGNAL_THRESHOLD\n",
      "#ht_filt = np.ones(WIDTH_THRESHOLD) / WIDTH_THRESHOLD\n",
      "#h_ht2 = signal.convolve(h_ht, ht_filt)\n",
      "#h_ht2 = h_ht2[len(ht_filt)-1:len(h_ht2)]\n",
      "#h_ht3 = h_ht2 >= 1\n",
      "\n",
      "# Standard deviation based thresholding\n",
      "threshold = h_std * THRESHOLD_STD\n",
      "h_ht = h > threshold\n",
      "h_ht2 = signal.convolve(h_ht, THRESHOLD_FILTER)\n",
      "h_ht2 = h_ht2[len(THRESHOLD_FILTER)-1:len(h_ht2)]\n",
      "h_ht3 = h_ht2 >= 1\n",
      "\n",
      "# Report sample identification\n",
      "detections = []\n",
      "edge_start = 0\n",
      "for i in range(0,len(h)-1):\n",
      "    if not h_ht3[i] and h_ht3[i+1]:\n",
      "        edge_start = i\n",
      "    if h_ht3[i] and not h_ht3[i+1]:\n",
      "        width = i - edge_start\n",
      "        peak = edge_start + width/2\n",
      "        detections.append([peak, width])\n",
      "      \n",
      "for i in range(0,len(detections)):\n",
      "    peak = detections[i][0]\n",
      "    width = detections[i][1]\n",
      "    peak_time = peak / SAMPLE_RATE\n",
      "    width_time = width / SAMPLE_RATE\n",
      "    print('Sample detected at time:', peak_time, 'with width of', width_time, 'seconds')\n",
      "    view_rng = np.arange(int(peak-2*width+1),int(peak+2*width+2))\n",
      "    time_rng = view_rng / SAMPLE_RATE\n",
      "    \n",
      "    fig, (ax, ax2, ax3, ax4) = plt.subplots(1, 4, figsize=(18,6))\n",
      "    ax.plot(time_rng, h[view_rng])\n",
      "    ax.plot(time_rng, np.ones(len(view_rng)) * threshold)\n",
      "    ax.set_xlim(time_rng[0], time_rng[len(time_rng)-1])\n",
      "    ax.set_xlabel('time (s)')\n",
      "    ax.set_ylabel('Filtered ADC Threshold Line')\n",
      "    \n",
      "    ax2.plot(time_rng, h_ht[view_rng])\n",
      "    ax2.set_xlim(time_rng[0], time_rng[len(time_rng)-1])\n",
      "    ax2.set_ylim(0.0, 1.1)\n",
      "    ax2.set_xlabel('time (s)')\n",
      "    ax2.set_ylabel('Threshold Crossings')\n",
      "    \n",
      "    ax3.plot(time_rng,h_ht2[view_rng])\n",
      "    ax3.set_xlim(time_rng[0], time_rng[len(time_rng)-1])\n",
      "    ax3.set_ylim(0.0, 1.1)\n",
      "    ax3.set_xlabel('time (s)')\n",
      "    ax3.set_ylabel('Width Thresholding')\n",
      "    \n",
      "    ax4.plot(time_rng,h_ht3[view_rng])\n",
      "    ax4.set_xlim(time_rng[0], time_rng[len(time_rng)-1])\n",
      "    ax4.set_ylim(0.0, 1.1)\n",
      "    ax4.set_xlabel('time (s)')\n",
      "    ax4.set_ylabel('Positive Detection')\n",
      "    \n",
      "    plt.show()"
     ],
     "language": "python",
     "metadata": {},
     "outputs": [],
     "prompt_number": 100
    },
    {
     "cell_type": "code",
     "collapsed": false,
     "input": [
      "# Analyze filter performance\n",
      "idx_offset = len(lp_filter)-1\n",
      "comp_rng = range(idx_offset,len(h))\n",
      "g = h[comp_rng] - u*x\n",
      "\n",
      "fig, ax = plt.subplots(1, figsize=(6,4))\n",
      "ax.plot(u*x)\n",
      "ax.plot(g)\n",
      "plt.show()"
     ],
     "language": "python",
     "metadata": {},
     "outputs": [
      {
       "ename": "ValueError",
       "evalue": "operands could not be broadcast together with shapes (4998448,) (100000,) ",
       "output_type": "pyerr",
       "traceback": [
        "\u001b[1;31m---------------------------------------------------------------------------\u001b[0m\n\u001b[1;31mValueError\u001b[0m                                Traceback (most recent call last)",
        "\u001b[1;32m<ipython-input-101-5b4c05d0c7d1>\u001b[0m in \u001b[0;36m<module>\u001b[1;34m()\u001b[0m\n\u001b[0;32m      2\u001b[0m \u001b[0midx_offset\u001b[0m \u001b[1;33m=\u001b[0m \u001b[0mlen\u001b[0m\u001b[1;33m(\u001b[0m\u001b[0mlp_filter\u001b[0m\u001b[1;33m)\u001b[0m\u001b[1;33m-\u001b[0m\u001b[1;36m1\u001b[0m\u001b[1;33m\u001b[0m\u001b[0m\n\u001b[0;32m      3\u001b[0m \u001b[0mcomp_rng\u001b[0m \u001b[1;33m=\u001b[0m \u001b[0mrange\u001b[0m\u001b[1;33m(\u001b[0m\u001b[0midx_offset\u001b[0m\u001b[1;33m,\u001b[0m\u001b[0mlen\u001b[0m\u001b[1;33m(\u001b[0m\u001b[0mh\u001b[0m\u001b[1;33m)\u001b[0m\u001b[1;33m)\u001b[0m\u001b[1;33m\u001b[0m\u001b[0m\n\u001b[1;32m----> 4\u001b[1;33m \u001b[0mg\u001b[0m \u001b[1;33m=\u001b[0m \u001b[0mh\u001b[0m\u001b[1;33m[\u001b[0m\u001b[0mcomp_rng\u001b[0m\u001b[1;33m]\u001b[0m \u001b[1;33m-\u001b[0m \u001b[0mu\u001b[0m\u001b[1;33m*\u001b[0m\u001b[0mx\u001b[0m\u001b[1;33m\u001b[0m\u001b[0m\n\u001b[0m\u001b[0;32m      5\u001b[0m \u001b[1;33m\u001b[0m\u001b[0m\n\u001b[0;32m      6\u001b[0m \u001b[0mfig\u001b[0m\u001b[1;33m,\u001b[0m \u001b[0max\u001b[0m \u001b[1;33m=\u001b[0m \u001b[0mplt\u001b[0m\u001b[1;33m.\u001b[0m\u001b[0msubplots\u001b[0m\u001b[1;33m(\u001b[0m\u001b[1;36m1\u001b[0m\u001b[1;33m,\u001b[0m \u001b[0mfigsize\u001b[0m\u001b[1;33m=\u001b[0m\u001b[1;33m(\u001b[0m\u001b[1;36m6\u001b[0m\u001b[1;33m,\u001b[0m\u001b[1;36m4\u001b[0m\u001b[1;33m)\u001b[0m\u001b[1;33m)\u001b[0m\u001b[1;33m\u001b[0m\u001b[0m\n",
        "\u001b[1;31mValueError\u001b[0m: operands could not be broadcast together with shapes (4998448,) (100000,) "
       ]
      }
     ],
     "prompt_number": 101
    },
    {
     "cell_type": "code",
     "collapsed": false,
     "input": [
      "# Calculate SNR of processed signal\n"
     ],
     "language": "python",
     "metadata": {},
     "outputs": []
    },
    {
     "cell_type": "code",
     "collapsed": false,
     "input": [
      "print WIDTH_THRESHOLD"
     ],
     "language": "python",
     "metadata": {},
     "outputs": []
    },
    {
     "cell_type": "code",
     "collapsed": false,
     "input": [],
     "language": "python",
     "metadata": {},
     "outputs": []
    },
    {
     "cell_type": "code",
     "collapsed": false,
     "input": [
      "print len()"
     ],
     "language": "python",
     "metadata": {},
     "outputs": []
    },
    {
     "cell_type": "code",
     "collapsed": false,
     "input": [],
     "language": "python",
     "metadata": {},
     "outputs": []
    },
    {
     "cell_type": "code",
     "collapsed": false,
     "input": [],
     "language": "python",
     "metadata": {},
     "outputs": []
    }
   ],
   "metadata": {}
  }
 ]
}